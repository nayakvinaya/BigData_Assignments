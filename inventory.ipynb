{
 "cells": [
  {
   "cell_type": "code",
   "execution_count": 1,
   "metadata": {},
   "outputs": [],
   "source": [
    "from cassandra.cluster import Cluster\n",
    "import pandas as pd"
   ]
  },
  {
   "cell_type": "code",
   "execution_count": 2,
   "metadata": {},
   "outputs": [
    {
     "data": {
      "text/html": [
       "<div>\n",
       "<style scoped>\n",
       "    .dataframe tbody tr th:only-of-type {\n",
       "        vertical-align: middle;\n",
       "    }\n",
       "\n",
       "    .dataframe tbody tr th {\n",
       "        vertical-align: top;\n",
       "    }\n",
       "\n",
       "    .dataframe thead th {\n",
       "        text-align: right;\n",
       "    }\n",
       "</style>\n",
       "<table border=\"1\" class=\"dataframe\">\n",
       "  <thead>\n",
       "    <tr style=\"text-align: right;\">\n",
       "      <th></th>\n",
       "      <th>sku</th>\n",
       "      <th>name</th>\n",
       "      <th>description</th>\n",
       "      <th>warehouse_num</th>\n",
       "    </tr>\n",
       "  </thead>\n",
       "  <tbody>\n",
       "    <tr>\n",
       "      <th>0</th>\n",
       "      <td>'PH01'</td>\n",
       "      <td>'Iphone11'</td>\n",
       "      <td>'Liquid Retina HD display'</td>\n",
       "      <td>101</td>\n",
       "    </tr>\n",
       "    <tr>\n",
       "      <th>1</th>\n",
       "      <td>'PH02'</td>\n",
       "      <td>'Iphone 12'</td>\n",
       "      <td>'Resolution of : 1792‑by‑828‑pixel resolution...</td>\n",
       "      <td>101</td>\n",
       "    </tr>\n",
       "    <tr>\n",
       "      <th>2</th>\n",
       "      <td>'LA01'</td>\n",
       "      <td>'HP pavilion'</td>\n",
       "      <td>'Windows 11 Home AMD Ryzen 5000 processors'</td>\n",
       "      <td>102</td>\n",
       "    </tr>\n",
       "    <tr>\n",
       "      <th>3</th>\n",
       "      <td>'LA04'</td>\n",
       "      <td>'MacBook M1'</td>\n",
       "      <td>'M1 includes Apple’s most advanced GPU. It be...</td>\n",
       "      <td>103</td>\n",
       "    </tr>\n",
       "    <tr>\n",
       "      <th>4</th>\n",
       "      <td>'TA01'</td>\n",
       "      <td>'Galaxy Tab 7 Lite'</td>\n",
       "      <td>'Light and Portable Sturdy Metal Frame 8MP Re...</td>\n",
       "      <td>104</td>\n",
       "    </tr>\n",
       "    <tr>\n",
       "      <th>5</th>\n",
       "      <td>'TA02'</td>\n",
       "      <td>'Galaxy Tab S7 FE 5G'</td>\n",
       "      <td>'Large Screen S PEN Multi-device Connectivity'</td>\n",
       "      <td>106</td>\n",
       "    </tr>\n",
       "    <tr>\n",
       "      <th>6</th>\n",
       "      <td>'TV01'</td>\n",
       "      <td>'One Plus TV'</td>\n",
       "      <td>'Smarter tv. Smarter Choice. Vision Comfort (...</td>\n",
       "      <td>101</td>\n",
       "    </tr>\n",
       "    <tr>\n",
       "      <th>7</th>\n",
       "      <td>'TV02'</td>\n",
       "      <td>'Samsung TV'</td>\n",
       "      <td>'The new Samsung Neo QLED QN90C delivers pris...</td>\n",
       "      <td>105</td>\n",
       "    </tr>\n",
       "  </tbody>\n",
       "</table>\n",
       "</div>"
      ],
      "text/plain": [
       "      sku                    name  \\\n",
       "0  'PH01'              'Iphone11'   \n",
       "1  'PH02'             'Iphone 12'   \n",
       "2  'LA01'           'HP pavilion'   \n",
       "3  'LA04'            'MacBook M1'   \n",
       "4  'TA01'     'Galaxy Tab 7 Lite'   \n",
       "5  'TA02'   'Galaxy Tab S7 FE 5G'   \n",
       "6  'TV01'           'One Plus TV'   \n",
       "7  'TV02'            'Samsung TV'   \n",
       "\n",
       "                                         description   warehouse_num  \n",
       "0                         'Liquid Retina HD display'             101  \n",
       "1   'Resolution of : 1792‑by‑828‑pixel resolution...             101  \n",
       "2        'Windows 11 Home AMD Ryzen 5000 processors'             102  \n",
       "3   'M1 includes Apple’s most advanced GPU. It be...             103  \n",
       "4   'Light and Portable Sturdy Metal Frame 8MP Re...             104  \n",
       "5     'Large Screen S PEN Multi-device Connectivity'             106  \n",
       "6   'Smarter tv. Smarter Choice. Vision Comfort (...             101  \n",
       "7   'The new Samsung Neo QLED QN90C delivers pris...             105  "
      ]
     },
     "execution_count": 2,
     "metadata": {},
     "output_type": "execute_result"
    }
   ],
   "source": [
    "df = pd.read_csv('./elinventory.csv')\n",
    "df"
   ]
  },
  {
   "cell_type": "code",
   "execution_count": 3,
   "metadata": {},
   "outputs": [],
   "source": [
    "clstr= Cluster()\n",
    "session=clstr.connect()"
   ]
  },
  {
   "cell_type": "code",
   "execution_count": 4,
   "metadata": {},
   "outputs": [
    {
     "data": {
      "text/plain": [
       "<cassandra.cluster.ResultSet at 0xffff89197940>"
      ]
     },
     "execution_count": 4,
     "metadata": {},
     "output_type": "execute_result"
    }
   ],
   "source": [
    "session.execute(\"CREATE KEYSPACE IF NOT EXISTS tri WITH REPLICATION= {'class':'SimpleStrategy','replication_factor':1}\")"
   ]
  },
  {
   "cell_type": "code",
   "execution_count": 5,
   "metadata": {},
   "outputs": [
    {
     "name": "stdout",
     "output_type": "stream",
     "text": [
      "Row(keyspace_name='tri', type='table', name='product', create_statement=\"CREATE TABLE tri.product (\\n    sku text PRIMARY KEY,\\n    description text,\\n    name text,\\n    warehouse_num int\\n) WITH additional_write_policy = '99p'\\n    AND bloom_filter_fp_chance = 0.01\\n    AND caching = {'keys': 'ALL', 'rows_per_partition': 'NONE'}\\n    AND cdc = false\\n    AND comment = ''\\n    AND compaction = {'class': 'org.apache.cassandra.db.compaction.SizeTieredCompactionStrategy', 'max_threshold': '32', 'min_threshold': '4'}\\n    AND compression = {'chunk_length_in_kb': '16', 'class': 'org.apache.cassandra.io.compress.LZ4Compressor'}\\n    AND memtable = 'default'\\n    AND crc_check_chance = 1.0\\n    AND default_time_to_live = 0\\n    AND extensions = {}\\n    AND gc_grace_seconds = 864000\\n    AND max_index_interval = 2048\\n    AND memtable_flush_period_in_ms = 0\\n    AND min_index_interval = 128\\n    AND read_repair = 'BLOCKING'\\n    AND speculative_retry = '99p';\")\n"
     ]
    }
   ],
   "source": [
    "rows=session.execute(\"DESCRIBE tri.product\")\n",
    "for row in rows:\n",
    "    print(row)"
   ]
  },
  {
   "cell_type": "code",
   "execution_count": 6,
   "metadata": {},
   "outputs": [
    {
     "data": {
      "text/plain": [
       "<cassandra.cluster.ResultSet at 0xffff5b82a530>"
      ]
     },
     "execution_count": 6,
     "metadata": {},
     "output_type": "execute_result"
    }
   ],
   "source": [
    "session.execute(\"\"\"\n",
    "CREATE TABLE IF NOT EXISTS tri.product (\n",
    "    sku VARCHAR,\n",
    "    name VARCHAR,\n",
    "    description VARCHAR,\n",
    "    warehouse_num INT,\n",
    "    PRIMARY KEY(sku)\n",
    ");\n",
    "\"\"\")"
   ]
  },
  {
   "cell_type": "code",
   "execution_count": 7,
   "metadata": {},
   "outputs": [
    {
     "name": "stdout",
     "output_type": "stream",
     "text": [
      "sku = 'PH01', name =  'Iphone11', description =  'Liquid Retina HD display', warehouse_num = 101\n",
      "sku = 'PH02', name =  'Iphone 12', description =  'Resolution of : 1792‑by‑828‑pixel resolution at 326 ppi', warehouse_num = 101\n",
      "sku = 'LA01', name =  'HP pavilion', description =  'Windows 11 Home AMD Ryzen 5000 processors', warehouse_num = 102\n",
      "sku = 'LA04', name =  'MacBook M1', description =  'M1 includes Apple’s most advanced GPU. It benefits from years of analysis of Mac applications including everyday apps and challenging pro workloads', warehouse_num = 103\n",
      "sku = 'TA01', name =  'Galaxy Tab 7 Lite', description =  'Light and Portable Sturdy Metal Frame 8MP Rear Camera', warehouse_num = 104\n",
      "sku = 'TA02', name =  'Galaxy Tab S7 FE 5G', description =  'Large Screen S PEN Multi-device Connectivity', warehouse_num = 106\n",
      "sku = 'TV01', name =  'One Plus TV', description =  'Smarter tv. Smarter Choice. Vision Comfort (TÜV Rheinland Certified) 24W Speakers with Dolby Audio', warehouse_num = 101\n",
      "sku = 'TV02', name =  'Samsung TV', description =  'The new Samsung Neo QLED QN90C delivers pristine contrast color and design  rewarding you at every glance', warehouse_num = 105\n"
     ]
    }
   ],
   "source": [
    "for index, row in df.iterrows():\n",
    "    print(f\"sku = {row[0]}, name = {row[1]}, description = {row[2]}, warehouse_num = {row[3]}\")\n",
    "\n"
   ]
  },
  {
   "cell_type": "code",
   "execution_count": 19,
   "metadata": {},
   "outputs": [],
   "source": [
    "for index, row in df.iterrows():\n",
    "    query = f\"INSERT INTO tri.product (sku, name, description, warehouse_num) VALUES ({row[0].strip()}, {row[1].strip()}, {row[2].strip()}, {row[3]});\"\n",
    "    session.execute(query)"
   ]
  },
  {
   "cell_type": "code",
   "execution_count": 26,
   "metadata": {},
   "outputs": [
    {
     "name": "stdout",
     "output_type": "stream",
     "text": [
      "sku=TA02, name=Galaxy Tab S7 FE 5G, description=Large Screen S PEN Multi-device Connectivity, warehouse_num=106\n",
      "sku=LA04, name=MacBook M1, description=M1 includes Apple’s most advanced GPU. It benefits from years of analysis of Mac applications including everyday apps and challenging pro workloads, warehouse_num=103\n",
      "sku=TA01, name=Galaxy Tab 7 Lite, description=Light and Portable Sturdy Metal Frame 8MP Rear Camera, warehouse_num=104\n",
      "sku=TV02, name=Samsung TV, description=The new Samsung Neo QLED QN90C delivers pristine contrast color and design  rewarding you at every glance, warehouse_num=105\n",
      "sku=LA01, name=HP pavilion, description=Windows 11 Home AMD Ryzen 5000 processors, warehouse_num=102\n",
      "sku=TV01, name=One Plus TV, description=Smarter tv. Smarter Choice. Vision Comfort (TÜV Rheinland Certified) 24W Speakers with Dolby Audio, warehouse_num=101\n",
      "sku=PH01, name=Iphone11, description=Liquid Retina HD display, warehouse_num=101\n",
      "sku=PH02, name=Iphone 12, description=Resolution of : 1792‑by‑828‑pixel resolution at 326 ppi, warehouse_num=101\n"
     ]
    }
   ],
   "source": [
    "rows = session.execute(\"select (sku, name, description, warehouse_num) from tri.product\")\n",
    "for row in rows:\n",
    "    print(f\"sku={row[0][0]}, name={row[0][1]}, description={row[0][2]}, warehouse_num={row[0][3]}\")\n"
   ]
  },
  {
   "cell_type": "code",
   "execution_count": 28,
   "metadata": {},
   "outputs": [
    {
     "name": "stdout",
     "output_type": "stream",
     "text": [
      "sku=TV01, name=One Plus TV, description=Smarter tv. Smarter Choice. Vision Comfort (TÜV Rheinland Certified) 24W Speakers with Dolby Audio, warehouse_num=101\n",
      "sku=PH01, name=Iphone11, description=Liquid Retina HD display, warehouse_num=101\n",
      "sku=PH02, name=Iphone 12, description=Resolution of : 1792‑by‑828‑pixel resolution at 326 ppi, warehouse_num=101\n"
     ]
    }
   ],
   "source": [
    "rows= session.execute(\"select (sku,name,description,warehouse_num) from tri.product where warehouse_num=101 ALLOW Filtering\")\n",
    "for row in rows:\n",
    "    print(f\"sku={row[0][0]}, name={row[0][1]}, description={row[0][2]}, warehouse_num={row[0][3]}\")\n"
   ]
  }
 ],
 "metadata": {
  "kernelspec": {
   "display_name": "base",
   "language": "python",
   "name": "python3"
  },
  "language_info": {
   "codemirror_mode": {
    "name": "ipython",
    "version": 3
   },
   "file_extension": ".py",
   "mimetype": "text/x-python",
   "name": "python",
   "nbconvert_exporter": "python",
   "pygments_lexer": "ipython3",
   "version": "3.10.9"
  },
  "orig_nbformat": 4
 },
 "nbformat": 4,
 "nbformat_minor": 2
}
