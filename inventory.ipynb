{
 "cells": [
  {
   "cell_type": "code",
   "execution_count": 36,
   "metadata": {},
   "outputs": [],
   "source": [
    "from cassandra.cluster import Cluster\n",
    "import pandas as pd"
   ]
  },
  {
   "cell_type": "code",
   "execution_count": 37,
   "metadata": {},
   "outputs": [
    {
     "data": {
      "text/html": [
       "<div>\n",
       "<style scoped>\n",
       "    .dataframe tbody tr th:only-of-type {\n",
       "        vertical-align: middle;\n",
       "    }\n",
       "\n",
       "    .dataframe tbody tr th {\n",
       "        vertical-align: top;\n",
       "    }\n",
       "\n",
       "    .dataframe thead th {\n",
       "        text-align: right;\n",
       "    }\n",
       "</style>\n",
       "<table border=\"1\" class=\"dataframe\">\n",
       "  <thead>\n",
       "    <tr style=\"text-align: right;\">\n",
       "      <th></th>\n",
       "      <th>sku</th>\n",
       "      <th>name</th>\n",
       "      <th>description</th>\n",
       "      <th>warehouse_num</th>\n",
       "    </tr>\n",
       "  </thead>\n",
       "  <tbody>\n",
       "    <tr>\n",
       "      <th>0</th>\n",
       "      <td>'PH01'</td>\n",
       "      <td>'Iphone11'</td>\n",
       "      <td>'Liquid Retina HD display'</td>\n",
       "      <td>101</td>\n",
       "    </tr>\n",
       "    <tr>\n",
       "      <th>1</th>\n",
       "      <td>'PH02'</td>\n",
       "      <td>'Iphone 12'</td>\n",
       "      <td>'Resolution of : 1792‑by‑828‑pixel resolution...</td>\n",
       "      <td>101</td>\n",
       "    </tr>\n",
       "    <tr>\n",
       "      <th>2</th>\n",
       "      <td>'LA01'</td>\n",
       "      <td>'HP pavilion'</td>\n",
       "      <td>'Windows 11 Home AMD Ryzen 5000 processors'</td>\n",
       "      <td>102</td>\n",
       "    </tr>\n",
       "    <tr>\n",
       "      <th>3</th>\n",
       "      <td>'LA04'</td>\n",
       "      <td>'MacBook M1'</td>\n",
       "      <td>'M1 includes Apple’s most advanced GPU. It be...</td>\n",
       "      <td>103</td>\n",
       "    </tr>\n",
       "    <tr>\n",
       "      <th>4</th>\n",
       "      <td>'TA01'</td>\n",
       "      <td>'Galaxy Tab 7 Lite'</td>\n",
       "      <td>'Light and Portable Sturdy Metal Frame 8MP Re...</td>\n",
       "      <td>104</td>\n",
       "    </tr>\n",
       "    <tr>\n",
       "      <th>5</th>\n",
       "      <td>'TA02'</td>\n",
       "      <td>'Galaxy Tab S7 FE 5G'</td>\n",
       "      <td>'Large Screen S PEN Multi-device Connectivity'</td>\n",
       "      <td>106</td>\n",
       "    </tr>\n",
       "    <tr>\n",
       "      <th>6</th>\n",
       "      <td>'TV01'</td>\n",
       "      <td>'One Plus TV'</td>\n",
       "      <td>'Smarter tv. Smarter Choice. Vision Comfort (...</td>\n",
       "      <td>101</td>\n",
       "    </tr>\n",
       "    <tr>\n",
       "      <th>7</th>\n",
       "      <td>'TV02'</td>\n",
       "      <td>'Samsung TV'</td>\n",
       "      <td>'The new Samsung Neo QLED QN90C delivers pris...</td>\n",
       "      <td>105</td>\n",
       "    </tr>\n",
       "  </tbody>\n",
       "</table>\n",
       "</div>"
      ],
      "text/plain": [
       "      sku                    name  \\\n",
       "0  'PH01'              'Iphone11'   \n",
       "1  'PH02'             'Iphone 12'   \n",
       "2  'LA01'           'HP pavilion'   \n",
       "3  'LA04'            'MacBook M1'   \n",
       "4  'TA01'     'Galaxy Tab 7 Lite'   \n",
       "5  'TA02'   'Galaxy Tab S7 FE 5G'   \n",
       "6  'TV01'           'One Plus TV'   \n",
       "7  'TV02'            'Samsung TV'   \n",
       "\n",
       "                                         description   warehouse_num  \n",
       "0                         'Liquid Retina HD display'             101  \n",
       "1   'Resolution of : 1792‑by‑828‑pixel resolution...             101  \n",
       "2        'Windows 11 Home AMD Ryzen 5000 processors'             102  \n",
       "3   'M1 includes Apple’s most advanced GPU. It be...             103  \n",
       "4   'Light and Portable Sturdy Metal Frame 8MP Re...             104  \n",
       "5     'Large Screen S PEN Multi-device Connectivity'             106  \n",
       "6   'Smarter tv. Smarter Choice. Vision Comfort (...             101  \n",
       "7   'The new Samsung Neo QLED QN90C delivers pris...             105  "
      ]
     },
     "execution_count": 37,
     "metadata": {},
     "output_type": "execute_result"
    }
   ],
   "source": [
    "df = pd.read_csv('./inventory.csv')\n",
    "df"
   ]
  },
  {
   "cell_type": "code",
   "execution_count": 38,
   "metadata": {},
   "outputs": [],
   "source": [
    "clstr= Cluster()\n",
    "session=clstr.connect()"
   ]
  },
  {
   "cell_type": "code",
   "execution_count": 39,
   "metadata": {},
   "outputs": [
    {
     "data": {
      "text/plain": [
       "<cassandra.cluster.ResultSet at 0xffff804b0910>"
      ]
     },
     "execution_count": 39,
     "metadata": {},
     "output_type": "execute_result"
    }
   ],
   "source": [
    "session.execute(\"CREATE KEYSPACE IF NOT EXISTS tri WITH REPLICATION= {'class':'SimpleStrategy','replication_factor':1}\")"
   ]
  },
  {
   "cell_type": "code",
   "execution_count": 18,
   "metadata": {},
   "outputs": [
    {
     "ename": "InvalidRequest",
     "evalue": "Error from server: code=2200 [Invalid query] message=\"'product' not found in keyspace 'tri'\"",
     "output_type": "error",
     "traceback": [
      "\u001b[0;31m---------------------------------------------------------------------------\u001b[0m",
      "\u001b[0;31mInvalidRequest\u001b[0m                            Traceback (most recent call last)",
      "Cell \u001b[0;32mIn[18], line 1\u001b[0m\n\u001b[0;32m----> 1\u001b[0m rows\u001b[39m=\u001b[39msession\u001b[39m.\u001b[39;49mexecute(\u001b[39m\"\u001b[39;49m\u001b[39mDESCRIBE tri.product\u001b[39;49m\u001b[39m\"\u001b[39;49m)\n\u001b[1;32m      2\u001b[0m \u001b[39mfor\u001b[39;00m row \u001b[39min\u001b[39;00m rows:\n\u001b[1;32m      3\u001b[0m     \u001b[39mprint\u001b[39m(row)\n",
      "File \u001b[0;32m~/miniconda3/lib/python3.10/site-packages/cassandra/cluster.py:2618\u001b[0m, in \u001b[0;36mcassandra.cluster.Session.execute\u001b[0;34m()\u001b[0m\n",
      "File \u001b[0;32m~/miniconda3/lib/python3.10/site-packages/cassandra/cluster.py:4894\u001b[0m, in \u001b[0;36mcassandra.cluster.ResponseFuture.result\u001b[0;34m()\u001b[0m\n",
      "\u001b[0;31mInvalidRequest\u001b[0m: Error from server: code=2200 [Invalid query] message=\"'product' not found in keyspace 'tri'\""
     ]
    }
   ],
   "source": [
    "rows=session.execute(\"DESCRIBE tri.product\")\n",
    "for row in rows:\n",
    "    print(row)"
   ]
  },
  {
   "cell_type": "code",
   "execution_count": 40,
   "metadata": {},
   "outputs": [
    {
     "data": {
      "text/plain": [
       "<cassandra.cluster.ResultSet at 0xffff804b1180>"
      ]
     },
     "execution_count": 40,
     "metadata": {},
     "output_type": "execute_result"
    }
   ],
   "source": [
    "session.execute(\"\"\"\n",
    "CREATE TABLE IF NOT EXISTS tri.product (\n",
    "    sku VARCHAR,\n",
    "    name VARCHAR,\n",
    "    description VARCHAR,\n",
    "    warehouse_num INT,\n",
    "    PRIMARY KEY(sku)\n",
    ");\n",
    "\"\"\")"
   ]
  },
  {
   "cell_type": "code",
   "execution_count": 32,
   "metadata": {},
   "outputs": [
    {
     "name": "stdout",
     "output_type": "stream",
     "text": [
      "sku = 'PH01', name =  'Iphone11', description =  'Liquid Retina HD display', warehouse_num = 101\n",
      "sku = 'PH02', name =  'Iphone 12', description =  'Resolution of : 1792‑by‑828‑pixel resolution at 326 ppi', warehouse_num = 101\n",
      "sku = 'LA01', name =  'HP pavilion', description =  'Windows 11 Home AMD Ryzen 5000 processors', warehouse_num = 102\n",
      "sku = 'LA04', name =  'MacBook M1', description =  'M1 includes Apple’s most advanced GPU. It benefits from years of analysis of Mac applications including everyday apps and challenging pro workloads', warehouse_num = 103\n",
      "sku = 'TA01', name =  'Galaxy Tab 7 Lite', description =  'Light and Portable Sturdy Metal Frame 8MP Rear Camera', warehouse_num = 104\n",
      "sku = 'TA02', name =  'Galaxy Tab S7 FE 5G', description =  'Large Screen S PEN Multi-device Connectivity', warehouse_num = 106\n",
      "sku = 'TV01', name =  'One Plus TV', description =  'Smarter tv. Smarter Choice. Vision Comfort (TÜV Rheinland Certified) 24W Speakers with Dolby Audio', warehouse_num = 101\n",
      "sku = 'TV02', name =  'Samsung TV', description =  'The new Samsung Neo QLED QN90C delivers pristine contrast color and design  rewarding you at every glance', warehouse_num = 105\n"
     ]
    }
   ],
   "source": [
    "for index, row in df.iterrows():\n",
    "    print(f\"sku = {row[0]}, name = {row[1]}, description = {row[2]}, warehouse_num = {row[3]}\")\n",
    "\n"
   ]
  },
  {
   "cell_type": "code",
   "execution_count": 41,
   "metadata": {},
   "outputs": [],
   "source": [
    "for index, row in df.iterrows():\n",
    "    query = f\"INSERT INTO tri.product (sku, name, description, warehouse_num) VALUES ({row[0].strip()}, {row[1].strip()}, {row[2].strip()}, {row[3]});\"\n",
    "    session.execute(query)"
   ]
  },
  {
   "cell_type": "code",
   "execution_count": 42,
   "metadata": {},
   "outputs": [
    {
     "name": "stdout",
     "output_type": "stream",
     "text": [
      "sku=TA02, name=Galaxy Tab S7 FE 5G, description=Large Screen S PEN Multi-device Connectivity, warehouse_num=106\n",
      "sku=LA04, name=MacBook M1, description=M1 includes Apple’s most advanced GPU. It benefits from years of analysis of Mac applications including everyday apps and challenging pro workloads, warehouse_num=103\n",
      "sku=TA01, name=Galaxy Tab 7 Lite, description=Light and Portable Sturdy Metal Frame 8MP Rear Camera, warehouse_num=104\n",
      "sku=TV02, name=Samsung TV, description=The new Samsung Neo QLED QN90C delivers pristine contrast color and design  rewarding you at every glance, warehouse_num=105\n",
      "sku=LA01, name=HP pavilion, description=Windows 11 Home AMD Ryzen 5000 processors, warehouse_num=102\n",
      "sku=TV01, name=One Plus TV, description=Smarter tv. Smarter Choice. Vision Comfort (TÜV Rheinland Certified) 24W Speakers with Dolby Audio, warehouse_num=101\n",
      "sku=PH01, name=Iphone11, description=Liquid Retina HD display, warehouse_num=101\n",
      "sku=PH02, name=Iphone 12, description=Resolution of : 1792‑by‑828‑pixel resolution at 326 ppi, warehouse_num=101\n"
     ]
    }
   ],
   "source": [
    "rows = session.execute(\"select (sku, name, description, warehouse_num) from tri.product\")\n",
    "for row in rows:\n",
    "    print(f\"sku={row[0][0]}, name={row[0][1]}, description={row[0][2]}, warehouse_num={row[0][3]}\")\n"
   ]
  },
  {
   "cell_type": "code",
   "execution_count": 43,
   "metadata": {},
   "outputs": [
    {
     "data": {
      "text/plain": [
       "<cassandra.cluster.ResultSet at 0xffff80559de0>"
      ]
     },
     "execution_count": 43,
     "metadata": {},
     "output_type": "execute_result"
    }
   ],
   "source": [
    "session.execute(\"create index if not exists on tri.product(warehouse_num); \")"
   ]
  },
  {
   "cell_type": "code",
   "execution_count": 45,
   "metadata": {},
   "outputs": [
    {
     "name": "stdout",
     "output_type": "stream",
     "text": [
      "sku=TV01, name=One Plus TV, description=Smarter tv. Smarter Choice. Vision Comfort (TÜV Rheinland Certified) 24W Speakers with Dolby Audio, warehouse_num=101\n",
      "sku=PH01, name=Iphone11, description=Liquid Retina HD display, warehouse_num=101\n",
      "sku=PH02, name=Iphone 12, description=Resolution of : 1792‑by‑828‑pixel resolution at 326 ppi, warehouse_num=101\n"
     ]
    }
   ],
   "source": [
    "rows= session.execute(\"select (sku,name,description,warehouse_num) from tri.product where warehouse_num=101 \")\n",
    "for row in rows:\n",
    "    print(f\"sku={row[0][0]}, name={row[0][1]}, description={row[0][2]}, warehouse_num={row[0][3]}\")\n"
   ]
  }
 ],
 "metadata": {
  "kernelspec": {
   "display_name": "base",
   "language": "python",
   "name": "python3"
  },
  "language_info": {
   "codemirror_mode": {
    "name": "ipython",
    "version": 3
   },
   "file_extension": ".py",
   "mimetype": "text/x-python",
   "name": "python",
   "nbconvert_exporter": "python",
   "pygments_lexer": "ipython3",
   "version": "3.10.9"
  },
  "orig_nbformat": 4
 },
 "nbformat": 4,
 "nbformat_minor": 2
}
